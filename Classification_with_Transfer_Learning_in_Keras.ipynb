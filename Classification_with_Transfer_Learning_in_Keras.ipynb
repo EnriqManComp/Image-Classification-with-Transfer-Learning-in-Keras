{
  "nbformat": 4,
  "nbformat_minor": 0,
  "metadata": {
    "colab": {
      "provenance": []
    },
    "kernelspec": {
      "name": "python3",
      "display_name": "Python 3"
    },
    "language_info": {
      "name": "python"
    }
  },
  "cells": [
    {
      "cell_type": "markdown",
      "source": [
        "# Image Classification With Transfer Learning Using Keras"
      ],
      "metadata": {
        "id": "Rz7j8_eDKkWf"
      }
    },
    {
      "cell_type": "markdown",
      "source": [
        "Import libraries"
      ],
      "metadata": {
        "id": "VLf7gw8nKdTQ"
      }
    },
    {
      "cell_type": "code",
      "execution_count": null,
      "metadata": {
        "id": "RMzeifmDKbaK"
      },
      "outputs": [],
      "source": [
        "import tensorflow as tf\n",
        "import tarfile\n",
        "import urllib\n",
        "import os\n",
        "import numpy as np\n",
        "import pets\n",
        "\n",
        "from matplotlib import pyplot as plt\n",
        "%matplotlib inline\n",
        "\n",
        "data_dir = 'data/'\n",
        "if not os.path.isdir(data_dir):\n",
        "    os.mkdir(data_dir)\n",
        "\n",
        "print('TensorFlow version:', tf.__version__)\n",
        "print('Is using GPU?', tf.test.is_gpu_available())"
      ]
    },
    {
      "cell_type": "markdown",
      "source": [
        "# Cats vs Dogs Dataset"
      ],
      "metadata": {
        "id": "MHXc5dr3KviV"
      }
    },
    {
      "cell_type": "markdown",
      "source": [
        "http://www.robots.ox.ac.uk/~vgg/data/pets/data/images.tar.gz\n",
        "\n",
        "http://www.robots.ox.ac.uk/~vgg/data/pets/data/annotations.tar.gz"
      ],
      "metadata": {
        "id": "lqMBoud5LYvc"
      }
    },
    {
      "cell_type": "code",
      "source": [
        "pets.download_and_extract('data', '.')"
      ],
      "metadata": {
        "id": "LOIRzpU8Lb81"
      },
      "execution_count": null,
      "outputs": []
    },
    {
      "cell_type": "code",
      "source": [
        "class_to_index = {'cat': 0, 'dog': 1}\n",
        "index_to_class = {0: 'cat', 1: 'dog'}\n",
        "\n",
        "train_annot, count_train = pets.cats_vs_dogs_annotations('data/annotations/trainval.txt')\n",
        "test_annot, count_test = pets.cats_vs_dogs_annotations('data/annotations/test.txt')\n",
        "\n",
        "print('Training examples', count_train)\n",
        "print('Test examples', count_test)"
      ],
      "metadata": {
        "id": "q9tlevj6KrDl"
      },
      "execution_count": null,
      "outputs": []
    },
    {
      "cell_type": "code",
      "source": [
        "test_annot"
      ],
      "metadata": {
        "id": "LISNWrr0MvtQ"
      },
      "execution_count": null,
      "outputs": []
    },
    {
      "cell_type": "markdown",
      "source": [
        "# Get Random Batch"
      ],
      "metadata": {
        "id": "EIt2UX72M397"
      }
    },
    {
      "cell_type": "code",
      "source": [
        "image_dir = 'data/images/'\n",
        "\n",
        "def get_random_batch(annot, batch_size=4):\n",
        "    all_keys = list(annot.keys())\n",
        "    total_examples = len(all_keys)\n",
        "    \n",
        "    indices = np.random.choice(range(total_examples), batch_size, replace=False)\n",
        "    \n",
        "    x = np.zeros((batch_size, 128, 128, 3)) # shape of the image of the datasets limited by Keras pre-trained weights\n",
        "    y = np.zeros((batch_size, 1))\n",
        "    images = []\n",
        "    \n",
        "    for i, index in enumerate(indices):\n",
        "        image_path = os.path.join(image_dir, all_keys[index])\n",
        "        image = tf.keras.preprocessing.image.load_img(\n",
        "            image_path, target_size=(128,128)\n",
        "        )\n",
        "        arr = tf.keras.preprocessing.image.img_to_array(image)\n",
        "        arr = tf.keras.applications.mobilenet_v2.preprocess_input(arr)\n",
        "        arr = np.expand_dims(arr, axis=0)\n",
        "        x[i] = arr\n",
        "        y[i] = class_to_index[annot[all_keys[index]]]\n",
        "        images.append(image)\n",
        "    return x, y, images"
      ],
      "metadata": {
        "id": "mCCuXyv3M6B_"
      },
      "execution_count": null,
      "outputs": []
    },
    {
      "cell_type": "code",
      "source": [
        "x, y, images = get_random_batch(train_annot, batch_size=8)\n",
        "pets.display_examples(x, y, y, images, index_to_class).show()"
      ],
      "metadata": {
        "id": "7kVGJC5VQyLD"
      },
      "execution_count": null,
      "outputs": []
    },
    {
      "cell_type": "markdown",
      "source": [
        "# Create Model"
      ],
      "metadata": {
        "id": "2_olwV7RRAp1"
      }
    },
    {
      "cell_type": "code",
      "source": [
        "mnet = tf.keras.applications.mobilenet_v2.MobileNetV2(\n",
        "    include_top=False, pooling='avg',\n",
        "    weights='imagenet', input_shape=(128,128,3)\n",
        ")\n",
        "mnet.summary()"
      ],
      "metadata": {
        "id": "wZlXuaAnRCss"
      },
      "execution_count": null,
      "outputs": []
    },
    {
      "cell_type": "code",
      "source": [
        "def create_model():\n",
        "    model = tf.keras.models.Sequential([\n",
        "        mnet,\n",
        "        tf.keras.layers.Dropout(0.5),\n",
        "        tf.keras.layers.Dense(1,activation='sigmoid')\n",
        "    ])\n",
        "    model.layers[0].trainable = False  # For don't change the pretrained model and avoid that the process of train only pass in the last layer\n",
        "    model.compile(loss='binary_crossentropy', optimizer='adam',metrics=['accuracy'])\n",
        "    return model\n",
        "model = create_model()\n",
        "model.summary()"
      ],
      "metadata": {
        "id": "eUU4H8CDR43x"
      },
      "execution_count": null,
      "outputs": []
    },
    {
      "cell_type": "markdown",
      "source": [
        "# Model Training"
      ],
      "metadata": {
        "id": "w7lz_ovQU-oh"
      }
    },
    {
      "cell_type": "code",
      "source": [
        "def data_generator(batch_size, annot):\n",
        "    while True:\n",
        "        x, y, _ = get_random_batch(annot, batch_size)\n",
        "        yield (x, y)"
      ],
      "metadata": {
        "id": "4Gjsx4HuVAKN"
      },
      "execution_count": null,
      "outputs": []
    },
    {
      "cell_type": "code",
      "source": [
        "batch_size = 32 # For the model training\n",
        "steps_per_epoch = int(count_train / batch_size)\n",
        "validation_steps = int(count_test/batch_size)\n",
        "\n",
        "print('Training steps:', steps_per_epoch)\n",
        "print('Validation steps:', validation_steps)"
      ],
      "metadata": {
        "id": "O0y0kHEOVA1i"
      },
      "execution_count": null,
      "outputs": []
    },
    {
      "cell_type": "code",
      "source": [
        "%%time\n",
        "\n",
        "_ = model.fit_generator(\n",
        "    data_generator(batch_size, train_annot),\n",
        "    validation_data = data_generator(batch_size, test_annot),\n",
        "    steps_per_epoch=steps_per_epoch,\n",
        "    validation_steps=validation_steps,\n",
        "    epochs=1\n",
        ")"
      ],
      "metadata": {
        "id": "hty_8FnZVDyb"
      },
      "execution_count": null,
      "outputs": []
    },
    {
      "cell_type": "markdown",
      "source": [
        "# Predictions"
      ],
      "metadata": {
        "id": "V3KgvXiqVzUR"
      }
    },
    {
      "cell_type": "code",
      "source": [
        "x, y, images = get_random_batch(test_annot, batch_size=8)\n",
        "preds = model.predict(x)"
      ],
      "metadata": {
        "id": "TMS2TEspVy24"
      },
      "execution_count": null,
      "outputs": []
    },
    {
      "cell_type": "code",
      "source": [
        "pets.display_examples(x,y,preds,images,index_to_class).show()"
      ],
      "metadata": {
        "id": "Z5xIG1i4Wf7D"
      },
      "execution_count": null,
      "outputs": []
    }
  ]
}